{
 "cells": [
  {
   "cell_type": "code",
   "execution_count": 5,
   "metadata": {},
   "outputs": [
    {
     "data": {
      "text/plain": [
       "['Unnamed: 0,user_id,book_id,rating,SortIndex1,SortIndex2,Headernumber\\n',\n",
       " '4363375,47744,151,5,1,3,96\\n',\n",
       " '4353591,47744,163,4,1,6,-1\\n',\n",
       " '4353621,47744,2495,4,1,6,-1\\n',\n",
       " '4353642,47744,534,5,1,8,-1\\n']"
      ]
     },
     "execution_count": 5,
     "metadata": {},
     "output_type": "execute_result"
    }
   ],
   "source": [
    "f = open('data/clean_data.csv').readlines()\n",
    "f[:5]"
   ]
  },
  {
   "cell_type": "markdown",
   "metadata": {},
   "source": [
    "GloVe algorithm takes as input a corpus of words separated by spaces. Different documents are separated by \\n, our equivalent for different documents will be different users. "
   ]
  },
  {
   "cell_type": "code",
   "execution_count": 19,
   "metadata": {},
   "outputs": [],
   "source": [
    "corpus = open('data/corpus.txt', 'w')\n",
    "\n",
    "i = 1\n",
    "while i < len(f):\n",
    "    line = f[i].split(',')\n",
    "    book_id = ' ' + line[2]\n",
    "    \n",
    "    if line[1] != f[i-1].split(',')[1]:\n",
    "        book_id = '\\n' + book_id\n",
    "    corpus.write(book_id)\n",
    "    \n",
    "    i += 1\n"
   ]
  },
  {
   "cell_type": "code",
   "execution_count": 22,
   "metadata": {},
   "outputs": [],
   "source": [
    "corpus.close()"
   ]
  },
  {
   "cell_type": "code",
   "execution_count": 23,
   "metadata": {},
   "outputs": [
    {
     "data": {
      "text/plain": [
       "53367"
      ]
     },
     "execution_count": 23,
     "metadata": {},
     "output_type": "execute_result"
    }
   ],
   "source": [
    "c = open('data/corpus.txt').readlines()\n",
    "len(c)\n"
   ]
  },
  {
   "cell_type": "code",
   "execution_count": null,
   "metadata": {},
   "outputs": [],
   "source": []
  }
 ],
 "metadata": {
  "kernelspec": {
   "display_name": "Python 3",
   "language": "python",
   "name": "python3"
  },
  "language_info": {
   "codemirror_mode": {
    "name": "ipython",
    "version": 3
   },
   "file_extension": ".py",
   "mimetype": "text/x-python",
   "name": "python",
   "nbconvert_exporter": "python",
   "pygments_lexer": "ipython3",
   "version": "3.7.3"
  }
 },
 "nbformat": 4,
 "nbformat_minor": 2
}
